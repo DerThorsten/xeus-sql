{
 "cells": [
  {
   "cell_type": "code",
   "execution_count": 1,
   "metadata": {},
   "outputs": [],
   "source": [
    "%LOAD sqlite3 db=chinook.db timeout=2 shared_cache=true"
   ]
  },
  {
   "cell_type": "code",
   "execution_count": 2,
   "metadata": {},
   "outputs": [
    {
     "data": {
      "text/html": [
       "<table>\n",
       "<tr>\n",
       "<th>GenreId</th>\n",
       "<th>Name</th>\n",
       "<th>MediaTypeId</th>\n",
       "<th>Name</th>\n",
       "</tr>\n",
       "<tr>\n",
       "<td>1</td>\n",
       "<td>Rock</td>\n",
       "<td>1</td>\n",
       "<td>MPEG audio file</td>\n",
       "</tr>\n",
       "<tr>\n",
       "<td>2</td>\n",
       "<td>Jazz</td>\n",
       "<td>1</td>\n",
       "<td>MPEG audio file</td>\n",
       "</tr>\n",
       "<tr>\n",
       "<td>3</td>\n",
       "<td>Metal</td>\n",
       "<td>1</td>\n",
       "<td>MPEG audio file</td>\n",
       "</tr>\n",
       "<tr>\n",
       "<td>4</td>\n",
       "<td>Alternative & Punk</td>\n",
       "<td>1</td>\n",
       "<td>MPEG audio file</td>\n",
       "</tr>\n",
       "<tr>\n",
       "<td>5</td>\n",
       "<td>Rock And Roll</td>\n",
       "<td>1</td>\n",
       "<td>MPEG audio file</td>\n",
       "</tr>\n",
       "<tr>\n",
       "<td>6</td>\n",
       "<td>Blues</td>\n",
       "<td>1</td>\n",
       "<td>MPEG audio file</td>\n",
       "</tr>\n",
       "<tr>\n",
       "<td>7</td>\n",
       "<td>Latin</td>\n",
       "<td>1</td>\n",
       "<td>MPEG audio file</td>\n",
       "</tr>\n",
       "<tr>\n",
       "<td>8</td>\n",
       "<td>Reggae</td>\n",
       "<td>1</td>\n",
       "<td>MPEG audio file</td>\n",
       "</tr>\n",
       "<tr>\n",
       "<td>9</td>\n",
       "<td>Pop</td>\n",
       "<td>1</td>\n",
       "<td>MPEG audio file</td>\n",
       "</tr>\n",
       "<tr>\n",
       "<td>10</td>\n",
       "<td>Soundtrack</td>\n",
       "<td>1</td>\n",
       "<td>MPEG audio file</td>\n",
       "</tr>\n",
       "</table>\n",
       "10 rows in set (0.00 sec)"
      ],
      "text/plain": [
       "+---------+--------------------+-------------+-----------------+\n",
       "| GenreId | Name               | MediaTypeId | Name            |\n",
       "+---------+--------------------+-------------+-----------------+\n",
       "| 1       | Rock               | 1           | MPEG audio file |\n",
       "+---------+--------------------+-------------+-----------------+\n",
       "| 2       | Jazz               | 1           | MPEG audio file |\n",
       "+---------+--------------------+-------------+-----------------+\n",
       "| 3       | Metal              | 1           | MPEG audio file |\n",
       "+---------+--------------------+-------------+-----------------+\n",
       "| 4       | Alternative & Punk | 1           | MPEG audio file |\n",
       "+---------+--------------------+-------------+-----------------+\n",
       "| 5       | Rock And Roll      | 1           | MPEG audio file |\n",
       "+---------+--------------------+-------------+-----------------+\n",
       "| 6       | Blues              | 1           | MPEG audio file |\n",
       "+---------+--------------------+-------------+-----------------+\n",
       "| 7       | Latin              | 1           | MPEG audio file |\n",
       "+---------+--------------------+-------------+-----------------+\n",
       "| 8       | Reggae             | 1           | MPEG audio file |\n",
       "+---------+--------------------+-------------+-----------------+\n",
       "| 9       | Pop                | 1           | MPEG audio file |\n",
       "+---------+--------------------+-------------+-----------------+\n",
       "| 10      | Soundtrack         | 1           | MPEG audio file |\n",
       "+---------+--------------------+-------------+-----------------+\n",
       "10 rows in set (0.00 sec)"
      ]
     },
     "execution_count": 2,
     "metadata": {},
     "output_type": "execute_result"
    }
   ],
   "source": [
    "SELECT * FROM genres, media_types limit 10"
   ]
  },
  {
   "cell_type": "code",
   "execution_count": 3,
   "metadata": {},
   "outputs": [
    {
     "data": {
      "application/vnd.vegalite.v3+json": {
       "$schema": "https://vega.github.io/schema/vega-lite/v4.json",
       "config": {
        "axis": {
         "grid": true
        }
       },
       "data": {
        "values": [
         {
          "GenreId": "1",
          "MediaTypeId": "1",
          "Name": "Rock"
         },
         {
          "GenreId": "2",
          "MediaTypeId": "1",
          "Name": "MPEG audio file"
         },
         {
          "GenreId": "3",
          "MediaTypeId": "1",
          "Name": "Jazz"
         },
         {
          "GenreId": "4",
          "MediaTypeId": "1",
          "Name": "MPEG audio file"
         },
         {
          "GenreId": "5",
          "MediaTypeId": "1",
          "Name": "Metal"
         },
         {
          "GenreId": "6",
          "MediaTypeId": "1",
          "Name": "MPEG audio file"
         },
         {
          "GenreId": "7",
          "MediaTypeId": "1",
          "Name": "Alternative & Punk"
         },
         {
          "GenreId": "8",
          "MediaTypeId": "1",
          "Name": "MPEG audio file"
         },
         {
          "GenreId": "9",
          "MediaTypeId": "1",
          "Name": "Rock And Roll"
         },
         {
          "GenreId": "10",
          "MediaTypeId": "1",
          "Name": "MPEG audio file"
         },
         {
          "GenreId": "11",
          "MediaTypeId": "1",
          "Name": "Blues"
         },
         {
          "GenreId": "12",
          "MediaTypeId": "1",
          "Name": "MPEG audio file"
         },
         {
          "GenreId": "13",
          "MediaTypeId": "1",
          "Name": "Latin"
         },
         {
          "GenreId": "14",
          "MediaTypeId": "1",
          "Name": "MPEG audio file"
         },
         {
          "GenreId": "15",
          "MediaTypeId": "1",
          "Name": "Reggae"
         },
         {
          "GenreId": "16",
          "MediaTypeId": "1",
          "Name": "MPEG audio file"
         },
         {
          "GenreId": "17",
          "MediaTypeId": "1",
          "Name": "Pop"
         },
         {
          "GenreId": "18",
          "MediaTypeId": "1",
          "Name": "MPEG audio file"
         },
         {
          "GenreId": "19",
          "MediaTypeId": "1",
          "Name": "Soundtrack"
         },
         {
          "GenreId": "20",
          "MediaTypeId": "1",
          "Name": "MPEG audio file"
         },
         {
          "GenreId": "21",
          "MediaTypeId": "1",
          "Name": "Bossa Nova"
         },
         {
          "GenreId": "22",
          "MediaTypeId": "1",
          "Name": "MPEG audio file"
         },
         {
          "GenreId": "23",
          "MediaTypeId": "1",
          "Name": "Easy Listening"
         },
         {
          "GenreId": "24",
          "MediaTypeId": "1",
          "Name": "MPEG audio file"
         },
         {
          "GenreId": "25",
          "MediaTypeId": "1",
          "Name": "Heavy Metal"
         },
         {
          "GenreId": "1",
          "MediaTypeId": "2",
          "Name": "MPEG audio file"
         },
         {
          "GenreId": "2",
          "MediaTypeId": "2",
          "Name": "R&B/Soul"
         },
         {
          "GenreId": "3",
          "MediaTypeId": "2",
          "Name": "MPEG audio file"
         },
         {
          "GenreId": "4",
          "MediaTypeId": "2",
          "Name": "Electronica/Dance"
         },
         {
          "GenreId": "5",
          "MediaTypeId": "2",
          "Name": "MPEG audio file"
         },
         {
          "GenreId": "6",
          "MediaTypeId": "2",
          "Name": "World"
         },
         {
          "GenreId": "7",
          "MediaTypeId": "2",
          "Name": "MPEG audio file"
         },
         {
          "GenreId": "8",
          "MediaTypeId": "2",
          "Name": "Hip Hop/Rap"
         },
         {
          "GenreId": "9",
          "MediaTypeId": "2",
          "Name": "MPEG audio file"
         },
         {
          "GenreId": "10",
          "MediaTypeId": "2",
          "Name": "Science Fiction"
         },
         {
          "GenreId": "11",
          "MediaTypeId": "2",
          "Name": "MPEG audio file"
         },
         {
          "GenreId": "12",
          "MediaTypeId": "2",
          "Name": "TV Shows"
         },
         {
          "GenreId": "13",
          "MediaTypeId": "2",
          "Name": "MPEG audio file"
         },
         {
          "GenreId": "14",
          "MediaTypeId": "2",
          "Name": "Sci Fi & Fantasy"
         },
         {
          "GenreId": "15",
          "MediaTypeId": "2",
          "Name": "MPEG audio file"
         },
         {
          "GenreId": "16",
          "MediaTypeId": "2",
          "Name": "Drama"
         },
         {
          "GenreId": "17",
          "MediaTypeId": "2",
          "Name": "MPEG audio file"
         },
         {
          "GenreId": "18",
          "MediaTypeId": "2",
          "Name": "Comedy"
         },
         {
          "GenreId": "19",
          "MediaTypeId": "2",
          "Name": "MPEG audio file"
         },
         {
          "GenreId": "20",
          "MediaTypeId": "2",
          "Name": "Alternative"
         },
         {
          "GenreId": "21",
          "MediaTypeId": "2",
          "Name": "MPEG audio file"
         },
         {
          "GenreId": "22",
          "MediaTypeId": "2",
          "Name": "Classical"
         },
         {
          "GenreId": "23",
          "MediaTypeId": "2",
          "Name": "MPEG audio file"
         },
         {
          "GenreId": "24",
          "MediaTypeId": "2",
          "Name": "Opera"
         },
         {
          "GenreId": "25",
          "MediaTypeId": "2",
          "Name": "MPEG audio file"
         },
         {
          "GenreId": "1",
          "MediaTypeId": "3",
          "Name": "Rock"
         },
         {
          "GenreId": "2",
          "MediaTypeId": "3",
          "Name": "Protected AAC audio file"
         },
         {
          "GenreId": "3",
          "MediaTypeId": "3",
          "Name": "Jazz"
         },
         {
          "GenreId": "4",
          "MediaTypeId": "3",
          "Name": "Protected AAC audio file"
         },
         {
          "GenreId": "5",
          "MediaTypeId": "3",
          "Name": "Metal"
         },
         {
          "GenreId": "6",
          "MediaTypeId": "3",
          "Name": "Protected AAC audio file"
         },
         {
          "GenreId": "7",
          "MediaTypeId": "3",
          "Name": "Alternative & Punk"
         },
         {
          "GenreId": "8",
          "MediaTypeId": "3",
          "Name": "Protected AAC audio file"
         },
         {
          "GenreId": "9",
          "MediaTypeId": "3",
          "Name": "Rock And Roll"
         },
         {
          "GenreId": "10",
          "MediaTypeId": "3",
          "Name": "Protected AAC audio file"
         },
         {
          "GenreId": "11",
          "MediaTypeId": "3",
          "Name": "Blues"
         },
         {
          "GenreId": "12",
          "MediaTypeId": "3",
          "Name": "Protected AAC audio file"
         },
         {
          "GenreId": "13",
          "MediaTypeId": "3",
          "Name": "Latin"
         },
         {
          "GenreId": "14",
          "MediaTypeId": "3",
          "Name": "Protected AAC audio file"
         },
         {
          "GenreId": "15",
          "MediaTypeId": "3",
          "Name": "Reggae"
         },
         {
          "GenreId": "16",
          "MediaTypeId": "3",
          "Name": "Protected AAC audio file"
         },
         {
          "GenreId": "17",
          "MediaTypeId": "3",
          "Name": "Pop"
         },
         {
          "GenreId": "18",
          "MediaTypeId": "3",
          "Name": "Protected AAC audio file"
         },
         {
          "GenreId": "19",
          "MediaTypeId": "3",
          "Name": "Soundtrack"
         },
         {
          "GenreId": "20",
          "MediaTypeId": "3",
          "Name": "Protected AAC audio file"
         },
         {
          "GenreId": "21",
          "MediaTypeId": "3",
          "Name": "Bossa Nova"
         },
         {
          "GenreId": "22",
          "MediaTypeId": "3",
          "Name": "Protected AAC audio file"
         },
         {
          "GenreId": "23",
          "MediaTypeId": "3",
          "Name": "Easy Listening"
         },
         {
          "GenreId": "24",
          "MediaTypeId": "3",
          "Name": "Protected AAC audio file"
         },
         {
          "GenreId": "25",
          "MediaTypeId": "3",
          "Name": "Heavy Metal"
         },
         {
          "GenreId": "1",
          "MediaTypeId": "4",
          "Name": "Protected AAC audio file"
         },
         {
          "GenreId": "2",
          "MediaTypeId": "4",
          "Name": "R&B/Soul"
         },
         {
          "GenreId": "3",
          "MediaTypeId": "4",
          "Name": "Protected AAC audio file"
         },
         {
          "GenreId": "4",
          "MediaTypeId": "4",
          "Name": "Electronica/Dance"
         },
         {
          "GenreId": "5",
          "MediaTypeId": "4",
          "Name": "Protected AAC audio file"
         },
         {
          "GenreId": "6",
          "MediaTypeId": "4",
          "Name": "World"
         },
         {
          "GenreId": "7",
          "MediaTypeId": "4",
          "Name": "Protected AAC audio file"
         },
         {
          "GenreId": "8",
          "MediaTypeId": "4",
          "Name": "Hip Hop/Rap"
         },
         {
          "GenreId": "9",
          "MediaTypeId": "4",
          "Name": "Protected AAC audio file"
         },
         {
          "GenreId": "10",
          "MediaTypeId": "4",
          "Name": "Science Fiction"
         },
         {
          "GenreId": "11",
          "MediaTypeId": "4",
          "Name": "Protected AAC audio file"
         },
         {
          "GenreId": "12",
          "MediaTypeId": "4",
          "Name": "TV Shows"
         },
         {
          "GenreId": "13",
          "MediaTypeId": "4",
          "Name": "Protected AAC audio file"
         },
         {
          "GenreId": "14",
          "MediaTypeId": "4",
          "Name": "Sci Fi & Fantasy"
         },
         {
          "GenreId": "15",
          "MediaTypeId": "4",
          "Name": "Protected AAC audio file"
         },
         {
          "GenreId": "16",
          "MediaTypeId": "4",
          "Name": "Drama"
         },
         {
          "GenreId": "17",
          "MediaTypeId": "4",
          "Name": "Protected AAC audio file"
         },
         {
          "GenreId": "18",
          "MediaTypeId": "4",
          "Name": "Comedy"
         },
         {
          "GenreId": "19",
          "MediaTypeId": "4",
          "Name": "Protected AAC audio file"
         },
         {
          "GenreId": "20",
          "MediaTypeId": "4",
          "Name": "Alternative"
         },
         {
          "GenreId": "21",
          "MediaTypeId": "4",
          "Name": "Protected AAC audio file"
         },
         {
          "GenreId": "22",
          "MediaTypeId": "4",
          "Name": "Classical"
         },
         {
          "GenreId": "23",
          "MediaTypeId": "4",
          "Name": "Protected AAC audio file"
         },
         {
          "GenreId": "24",
          "MediaTypeId": "4",
          "Name": "Opera"
         },
         {
          "GenreId": "25",
          "MediaTypeId": "4",
          "Name": "Protected AAC audio file"
         },
         {
          "GenreId": "1",
          "MediaTypeId": "5",
          "Name": "Rock"
         },
         {
          "GenreId": "2",
          "MediaTypeId": "5",
          "Name": "Protected MPEG-4 video file"
         },
         {
          "GenreId": "3",
          "MediaTypeId": "5",
          "Name": "Jazz"
         },
         {
          "GenreId": "4",
          "MediaTypeId": "5",
          "Name": "Protected MPEG-4 video file"
         },
         {
          "GenreId": "5",
          "MediaTypeId": "5",
          "Name": "Metal"
         },
         {
          "GenreId": "6",
          "MediaTypeId": "5",
          "Name": "Protected MPEG-4 video file"
         },
         {
          "GenreId": "7",
          "MediaTypeId": "5",
          "Name": "Alternative & Punk"
         },
         {
          "GenreId": "8",
          "MediaTypeId": "5",
          "Name": "Protected MPEG-4 video file"
         },
         {
          "GenreId": "9",
          "MediaTypeId": "5",
          "Name": "Rock And Roll"
         },
         {
          "GenreId": "10",
          "MediaTypeId": "5",
          "Name": "Protected MPEG-4 video file"
         },
         {
          "GenreId": "11",
          "MediaTypeId": "5",
          "Name": "Blues"
         },
         {
          "GenreId": "12",
          "MediaTypeId": "5",
          "Name": "Protected MPEG-4 video file"
         },
         {
          "GenreId": "13",
          "MediaTypeId": "5",
          "Name": "Latin"
         },
         {
          "GenreId": "14",
          "MediaTypeId": "5",
          "Name": "Protected MPEG-4 video file"
         },
         {
          "GenreId": "15",
          "MediaTypeId": "5",
          "Name": "Reggae"
         },
         {
          "GenreId": "16",
          "MediaTypeId": "5",
          "Name": "Protected MPEG-4 video file"
         },
         {
          "GenreId": "17",
          "MediaTypeId": "5",
          "Name": "Pop"
         },
         {
          "GenreId": "18",
          "MediaTypeId": "5",
          "Name": "Protected MPEG-4 video file"
         },
         {
          "GenreId": "19",
          "MediaTypeId": "5",
          "Name": "Soundtrack"
         },
         {
          "GenreId": "20",
          "MediaTypeId": "5",
          "Name": "Protected MPEG-4 video file"
         },
         {
          "GenreId": "21",
          "MediaTypeId": "5",
          "Name": "Bossa Nova"
         },
         {
          "GenreId": "22",
          "MediaTypeId": "5",
          "Name": "Protected MPEG-4 video file"
         },
         {
          "GenreId": "23",
          "MediaTypeId": "5",
          "Name": "Easy Listening"
         },
         {
          "GenreId": "24",
          "MediaTypeId": "5",
          "Name": "Protected MPEG-4 video file"
         },
         {
          "GenreId": "25",
          "MediaTypeId": "5",
          "Name": "Heavy Metal"
         },
         {
          "Name": "Protected MPEG-4 video file"
         },
         {
          "Name": "R&B/Soul"
         },
         {
          "Name": "Protected MPEG-4 video file"
         },
         {
          "Name": "Electronica/Dance"
         },
         {
          "Name": "Protected MPEG-4 video file"
         },
         {
          "Name": "World"
         },
         {
          "Name": "Protected MPEG-4 video file"
         },
         {
          "Name": "Hip Hop/Rap"
         },
         {
          "Name": "Protected MPEG-4 video file"
         },
         {
          "Name": "Science Fiction"
         },
         {
          "Name": "Protected MPEG-4 video file"
         },
         {
          "Name": "TV Shows"
         },
         {
          "Name": "Protected MPEG-4 video file"
         },
         {
          "Name": "Sci Fi & Fantasy"
         },
         {
          "Name": "Protected MPEG-4 video file"
         },
         {
          "Name": "Drama"
         },
         {
          "Name": "Protected MPEG-4 video file"
         },
         {
          "Name": "Comedy"
         },
         {
          "Name": "Protected MPEG-4 video file"
         },
         {
          "Name": "Alternative"
         },
         {
          "Name": "Protected MPEG-4 video file"
         },
         {
          "Name": "Classical"
         },
         {
          "Name": "Protected MPEG-4 video file"
         },
         {
          "Name": "Opera"
         },
         {
          "Name": "Protected MPEG-4 video file"
         },
         {
          "Name": "Rock"
         },
         {
          "Name": "Purchased AAC audio file"
         },
         {
          "Name": "Jazz"
         },
         {
          "Name": "Purchased AAC audio file"
         },
         {
          "Name": "Metal"
         },
         {
          "Name": "Purchased AAC audio file"
         },
         {
          "Name": "Alternative & Punk"
         },
         {
          "Name": "Purchased AAC audio file"
         },
         {
          "Name": "Rock And Roll"
         },
         {
          "Name": "Purchased AAC audio file"
         },
         {
          "Name": "Blues"
         },
         {
          "Name": "Purchased AAC audio file"
         },
         {
          "Name": "Latin"
         },
         {
          "Name": "Purchased AAC audio file"
         },
         {
          "Name": "Reggae"
         },
         {
          "Name": "Purchased AAC audio file"
         },
         {
          "Name": "Pop"
         },
         {
          "Name": "Purchased AAC audio file"
         },
         {
          "Name": "Soundtrack"
         },
         {
          "Name": "Purchased AAC audio file"
         },
         {
          "Name": "Bossa Nova"
         },
         {
          "Name": "Purchased AAC audio file"
         },
         {
          "Name": "Easy Listening"
         },
         {
          "Name": "Purchased AAC audio file"
         },
         {
          "Name": "Heavy Metal"
         },
         {
          "Name": "Purchased AAC audio file"
         },
         {
          "Name": "R&B/Soul"
         },
         {
          "Name": "Purchased AAC audio file"
         },
         {
          "Name": "Electronica/Dance"
         },
         {
          "Name": "Purchased AAC audio file"
         },
         {
          "Name": "World"
         },
         {
          "Name": "Purchased AAC audio file"
         },
         {
          "Name": "Hip Hop/Rap"
         },
         {
          "Name": "Purchased AAC audio file"
         },
         {
          "Name": "Science Fiction"
         },
         {
          "Name": "Purchased AAC audio file"
         },
         {
          "Name": "TV Shows"
         },
         {
          "Name": "Purchased AAC audio file"
         },
         {
          "Name": "Sci Fi & Fantasy"
         },
         {
          "Name": "Purchased AAC audio file"
         },
         {
          "Name": "Drama"
         },
         {
          "Name": "Purchased AAC audio file"
         },
         {
          "Name": "Comedy"
         },
         {
          "Name": "Purchased AAC audio file"
         },
         {
          "Name": "Alternative"
         },
         {
          "Name": "Purchased AAC audio file"
         },
         {
          "Name": "Classical"
         },
         {
          "Name": "Purchased AAC audio file"
         },
         {
          "Name": "Opera"
         },
         {
          "Name": "Purchased AAC audio file"
         },
         {
          "Name": "Rock"
         },
         {
          "Name": "AAC audio file"
         },
         {
          "Name": "Jazz"
         },
         {
          "Name": "AAC audio file"
         },
         {
          "Name": "Metal"
         },
         {
          "Name": "AAC audio file"
         },
         {
          "Name": "Alternative & Punk"
         },
         {
          "Name": "AAC audio file"
         },
         {
          "Name": "Rock And Roll"
         },
         {
          "Name": "AAC audio file"
         },
         {
          "Name": "Blues"
         },
         {
          "Name": "AAC audio file"
         },
         {
          "Name": "Latin"
         },
         {
          "Name": "AAC audio file"
         },
         {
          "Name": "Reggae"
         },
         {
          "Name": "AAC audio file"
         },
         {
          "Name": "Pop"
         },
         {
          "Name": "AAC audio file"
         },
         {
          "Name": "Soundtrack"
         },
         {
          "Name": "AAC audio file"
         },
         {
          "Name": "Bossa Nova"
         },
         {
          "Name": "AAC audio file"
         },
         {
          "Name": "Easy Listening"
         },
         {
          "Name": "AAC audio file"
         },
         {
          "Name": "Heavy Metal"
         },
         {
          "Name": "AAC audio file"
         },
         {
          "Name": "R&B/Soul"
         },
         {
          "Name": "AAC audio file"
         },
         {
          "Name": "Electronica/Dance"
         },
         {
          "Name": "AAC audio file"
         },
         {
          "Name": "World"
         },
         {
          "Name": "AAC audio file"
         },
         {
          "Name": "Hip Hop/Rap"
         },
         {
          "Name": "AAC audio file"
         },
         {
          "Name": "Science Fiction"
         },
         {
          "Name": "AAC audio file"
         },
         {
          "Name": "TV Shows"
         },
         {
          "Name": "AAC audio file"
         },
         {
          "Name": "Sci Fi & Fantasy"
         },
         {
          "Name": "AAC audio file"
         },
         {
          "Name": "Drama"
         },
         {
          "Name": "AAC audio file"
         },
         {
          "Name": "Comedy"
         },
         {
          "Name": "AAC audio file"
         },
         {
          "Name": "Alternative"
         },
         {
          "Name": "AAC audio file"
         },
         {
          "Name": "Classical"
         },
         {
          "Name": "AAC audio file"
         },
         {
          "Name": "Opera"
         },
         {
          "Name": "AAC audio file"
         }
        ]
       },
       "encoding": {
        "x": {
         "field": "GenreId",
         "type": "quantitative"
        },
        "y": {
         "field": "MediaTypeId",
         "type": "quantitative"
        }
       },
       "height": 300,
       "mark": {
        "color": "red",
        "type": "area"
       },
       "width": 300
      },
      "image/png": "[encoded data removed]"
     },
     "execution_count": 3,
     "metadata": {},
     "output_type": "execute_result"
    }
   ],
   "source": [
    "%XVEGA_PLOT X_FIELD GenreId Y_FIELD MediaTypeId MARK area COLOR red WIDTH 300 HEIGHT 300 <> SELECT * FROM genres, media_types"
   ]
  },
  {
   "cell_type": "code",
   "execution_count": 4,
   "metadata": {},
   "outputs": [
    {
     "data": {
      "text/html": [
       "<table>\n",
       "<tr>\n",
       "<th>count(*)</th>\n",
       "</tr>\n",
       "<tr>\n",
       "<td>25</td>\n",
       "</tr>\n",
       "</table>\n",
       "1 row in set (0,00 sec)"
      ],
      "text/plain": [
       "+----------+\n",
       "| count(*) |\n",
       "+----------+\n",
       "| 25       |\n",
       "+----------+\n",
       "1 row in set (0,00 sec)"
      ]
     },
     "execution_count": 4,
     "metadata": {},
     "output_type": "execute_result"
    }
   ],
   "source": [
    "select count(*) from genres;"
   ]
  },
  {
   "cell_type": "code",
   "execution_count": 5,
   "metadata": {},
   "outputs": [
    {
     "data": {
      "text/html": [
       "<table>\n",
       "<tr>\n",
       "<th>EmployeeId</th>\n",
       "<th>LastName</th>\n",
       "<th>FirstName</th>\n",
       "<th>Title</th>\n",
       "<th>ReportsTo</th>\n",
       "<th>BirthDate</th>\n",
       "<th>HireDate</th>\n",
       "<th>Address</th>\n",
       "<th>City</th>\n",
       "<th>State</th>\n",
       "<th>Country</th>\n",
       "<th>PostalCode</th>\n",
       "<th>Phone</th>\n",
       "<th>Fax</th>\n",
       "<th>Email</th>\n",
       "</tr>\n",
       "<tr>\n",
       "<td>1</td>\n",
       "<td>Adams</td>\n",
       "<td>Andrew</td>\n",
       "<td>General Manager</td>\n",
       "<td>NULL</td>\n",
       "<td>1962-02-18 00:00:00</td>\n",
       "<td>2002-08-14 00:00:00</td>\n",
       "<td>11120 Jasper Ave NW</td>\n",
       "<td>Edmonton</td>\n",
       "<td>AB</td>\n",
       "<td>Canada</td>\n",
       "<td>T5K 2N1</td>\n",
       "<td>+1 (780) 428-9482</td>\n",
       "<td>+1 (780) 428-3457</td>\n",
       "<td>andrew@chinookcorp.com</td>\n",
       "</tr>\n",
       "<tr>\n",
       "<td>2</td>\n",
       "<td>Edwards</td>\n",
       "<td>Nancy</td>\n",
       "<td>Sales Manager</td>\n",
       "<td>1</td>\n",
       "<td>1958-12-08 00:00:00</td>\n",
       "<td>2002-05-01 00:00:00</td>\n",
       "<td>825 8 Ave SW</td>\n",
       "<td>Calgary</td>\n",
       "<td>AB</td>\n",
       "<td>Canada</td>\n",
       "<td>T2P 2T3</td>\n",
       "<td>+1 (403) 262-3443</td>\n",
       "<td>+1 (403) 262-3322</td>\n",
       "<td>nancy@chinookcorp.com</td>\n",
       "</tr>\n",
       "<tr>\n",
       "<td>3</td>\n",
       "<td>Peacock</td>\n",
       "<td>Jane</td>\n",
       "<td>Sales Support Agent</td>\n",
       "<td>2</td>\n",
       "<td>1973-08-29 00:00:00</td>\n",
       "<td>2002-04-01 00:00:00</td>\n",
       "<td>1111 6 Ave SW</td>\n",
       "<td>Calgary</td>\n",
       "<td>AB</td>\n",
       "<td>Canada</td>\n",
       "<td>T2P 5M5</td>\n",
       "<td>+1 (403) 262-3443</td>\n",
       "<td>+1 (403) 262-6712</td>\n",
       "<td>jane@chinookcorp.com</td>\n",
       "</tr>\n",
       "<tr>\n",
       "<td>4</td>\n",
       "<td>Park</td>\n",
       "<td>Margaret</td>\n",
       "<td>Sales Support Agent</td>\n",
       "<td>2</td>\n",
       "<td>1947-09-19 00:00:00</td>\n",
       "<td>2003-05-03 00:00:00</td>\n",
       "<td>683 10 Street SW</td>\n",
       "<td>Calgary</td>\n",
       "<td>AB</td>\n",
       "<td>Canada</td>\n",
       "<td>T2P 5G3</td>\n",
       "<td>+1 (403) 263-4423</td>\n",
       "<td>+1 (403) 263-4289</td>\n",
       "<td>margaret@chinookcorp.com</td>\n",
       "</tr>\n",
       "<tr>\n",
       "<td>5</td>\n",
       "<td>Johnson</td>\n",
       "<td>Steve</td>\n",
       "<td>Sales Support Agent</td>\n",
       "<td>2</td>\n",
       "<td>1965-03-03 00:00:00</td>\n",
       "<td>2003-10-17 00:00:00</td>\n",
       "<td>7727B 41 Ave</td>\n",
       "<td>Calgary</td>\n",
       "<td>AB</td>\n",
       "<td>Canada</td>\n",
       "<td>T3B 1Y7</td>\n",
       "<td>1 (780) 836-9987</td>\n",
       "<td>1 (780) 836-9543</td>\n",
       "<td>steve@chinookcorp.com</td>\n",
       "</tr>\n",
       "</table>\n",
       "5 rows in set (0,00 sec)"
      ],
      "text/plain": [
       "+------------+----------+-----------+---------------------+-----------+---------------------+---------------------+---------------------+----------+-------+---------+------------+-------------------+-------------------+--------------------------+\n",
       "| EmployeeId | LastName | FirstName | Title               | ReportsTo | BirthDate           | HireDate            | Address             | City     | State | Country | PostalCode | Phone             | Fax               | Email                    |\n",
       "+------------+----------+-----------+---------------------+-----------+---------------------+---------------------+---------------------+----------+-------+---------+------------+-------------------+-------------------+--------------------------+\n",
       "| 1          | Adams    | Andrew    | General Manager     | NULL      | 1962-02-18 00:00:00 | 2002-08-14 00:00:00 | 11120 Jasper Ave NW | Edmonton | AB    | Canada  | T5K 2N1    | +1 (780) 428-9482 | +1 (780) 428-3457 | andrew@chinookcorp.com   |\n",
       "+------------+----------+-----------+---------------------+-----------+---------------------+---------------------+---------------------+----------+-------+---------+------------+-------------------+-------------------+--------------------------+\n",
       "| 2          | Edwards  | Nancy     | Sales Manager       | 1         | 1958-12-08 00:00:00 | 2002-05-01 00:00:00 | 825 8 Ave SW        | Calgary  | AB    | Canada  | T2P 2T3    | +1 (403) 262-3443 | +1 (403) 262-3322 | nancy@chinookcorp.com    |\n",
       "+------------+----------+-----------+---------------------+-----------+---------------------+---------------------+---------------------+----------+-------+---------+------------+-------------------+-------------------+--------------------------+\n",
       "| 3          | Peacock  | Jane      | Sales Support Agent | 2         | 1973-08-29 00:00:00 | 2002-04-01 00:00:00 | 1111 6 Ave SW       | Calgary  | AB    | Canada  | T2P 5M5    | +1 (403) 262-3443 | +1 (403) 262-6712 | jane@chinookcorp.com     |\n",
       "+------------+----------+-----------+---------------------+-----------+---------------------+---------------------+---------------------+----------+-------+---------+------------+-------------------+-------------------+--------------------------+\n",
       "| 4          | Park     | Margaret  | Sales Support Agent | 2         | 1947-09-19 00:00:00 | 2003-05-03 00:00:00 | 683 10 Street SW    | Calgary  | AB    | Canada  | T2P 5G3    | +1 (403) 263-4423 | +1 (403) 263-4289 | margaret@chinookcorp.com |\n",
       "+------------+----------+-----------+---------------------+-----------+---------------------+---------------------+---------------------+----------+-------+---------+------------+-------------------+-------------------+--------------------------+\n",
       "| 5          | Johnson  | Steve     | Sales Support Agent | 2         | 1965-03-03 00:00:00 | 2003-10-17 00:00:00 | 7727B 41 Ave        | Calgary  | AB    | Canada  | T3B 1Y7    | 1 (780) 836-9987  | 1 (780) 836-9543  | steve@chinookcorp.com    |\n",
       "+------------+----------+-----------+---------------------+-----------+---------------------+---------------------+---------------------+----------+-------+---------+------------+-------------------+-------------------+--------------------------+\n",
       "5 rows in set (0,00 sec)"
      ]
     },
     "execution_count": 5,
     "metadata": {},
     "output_type": "execute_result"
    }
   ],
   "source": [
    "select * from employees LIMIT 5;"
   ]
  }
 ],
 "metadata": {
  "kernelspec": {
   "display_name": "xsql",
   "language": "sqlite",
   "name": "xsql"
  },
  "language_info": {
   "codemirror_mode": "sql",
   "file_extension": "",
   "mimetype": "",
   "name": "mysql",
   "version": "0.1.2"
  }
 },
 "nbformat": 4,
 "nbformat_minor": 4
}
