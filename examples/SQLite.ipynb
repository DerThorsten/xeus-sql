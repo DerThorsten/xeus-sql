{
 "cells": [
  {
   "cell_type": "code",
   "execution_count": 1,
   "metadata": {},
   "outputs": [],
   "source": [
    "%LOAD sqlite3 chinook.db"
   ]
  },
  {
   "cell_type": "code",
   "execution_count": 2,
   "metadata": {},
   "outputs": [
    {
     "data": {
      "text/html": [
       "<table>\n",
       "<tr>\n",
       "<th>GenreId</th>\n",
       "<th>Name</th>\n",
       "<th>MediaTypeId</th>\n",
       "<th>Name</th>\n",
       "</tr>\n",
       "<tr>\n",
       "<td>2</td>\n",
       "<td>Jazz</td>\n",
       "<td>1</td>\n",
       "<td>MPEG audio file</td>\n",
       "</tr>\n",
       "<tr>\n",
       "<td>3</td>\n",
       "<td>Metal</td>\n",
       "<td>1</td>\n",
       "<td>MPEG audio file</td>\n",
       "</tr>\n",
       "<tr>\n",
       "<td>4</td>\n",
       "<td>Alternative & Punk</td>\n",
       "<td>1</td>\n",
       "<td>MPEG audio file</td>\n",
       "</tr>\n",
       "<tr>\n",
       "<td>5</td>\n",
       "<td>Rock And Roll</td>\n",
       "<td>1</td>\n",
       "<td>MPEG audio file</td>\n",
       "</tr>\n",
       "</table>"
      ],
      "text/plain": []
     },
     "execution_count": 2,
     "metadata": {},
     "output_type": "execute_result"
    }
   ],
   "source": [
    "SELECT * FROM genres, media_types LIMIT 5"
   ]
  },
  {
   "cell_type": "code",
   "execution_count": 3,
   "metadata": {},
   "outputs": [
    {
     "data": {
      "text/html": [
       "<table>\n",
       "<tr>\n",
       "<th>GenreId</th>\n",
       "<th>Name</th>\n",
       "<th>MediaTypeId</th>\n",
       "<th>Name</th>\n",
       "</tr>\n",
       "<tr>\n",
       "<td>2</td>\n",
       "<td>Jazz</td>\n",
       "<td>1</td>\n",
       "<td>MPEG audio file</td>\n",
       "</tr>\n",
       "<tr>\n",
       "<td>3</td>\n",
       "<td>Metal</td>\n",
       "<td>1</td>\n",
       "<td>MPEG audio file</td>\n",
       "</tr>\n",
       "<tr>\n",
       "<td>4</td>\n",
       "<td>Alternative & Punk</td>\n",
       "<td>1</td>\n",
       "<td>MPEG audio file</td>\n",
       "</tr>\n",
       "<tr>\n",
       "<td>5</td>\n",
       "<td>Rock And Roll</td>\n",
       "<td>1</td>\n",
       "<td>MPEG audio file</td>\n",
       "</tr>\n",
       "</table>"
      ],
      "text/plain": []
     },
     "execution_count": 3,
     "metadata": {},
     "output_type": "execute_result"
    },
    {
     "data": {
      "application/vnd.vegalite.v3+json": {
       "$schema": "https://vega.github.io/schema/vega-lite/v4.json",
       "config": {
        "axis": {
         "grid": true
        }
       },
       "data": {
        "values": [
         {
          "GenreId": "name",
          "MediaTypeId": "name",
          "Name": "name"
         },
         {
          "GenreId": "2",
          "MediaTypeId": "1",
          "Name": "Jazz"
         },
         {
          "GenreId": "3",
          "MediaTypeId": "1",
          "Name": "MPEG audio file"
         },
         {
          "GenreId": "4",
          "MediaTypeId": "1",
          "Name": "Metal"
         },
         {
          "GenreId": "5",
          "MediaTypeId": "1",
          "Name": "MPEG audio file"
         },
         {
          "Name": "Alternative & Punk"
         },
         {
          "Name": "MPEG audio file"
         },
         {
          "Name": "Rock And Roll"
         },
         {
          "Name": "MPEG audio file"
         }
        ]
       },
       "encoding": {
        "x": {
         "field": "GenreId",
         "type": "quantitative"
        },
        "y": {
         "field": "MediaTypeId",
         "type": "quantitative"
        }
       },
       "height": 200,
       "mark": {
        "type": "square"
       },
       "width": 100
      },
      "image/png": "[encoded data removed]"
     },
     "execution_count": 3,
     "metadata": {},
     "output_type": "execute_result"
    }
   ],
   "source": [
    "%XVEGA_PLOT X_FIELD GenreId Y_FIELD MediaTypeId MARK square WIDTH 100 HEIGHT 200 <> SELECT * FROM genres, media_types LIMIT 5"
   ]
  },
  {
   "cell_type": "code",
   "execution_count": null,
   "metadata": {},
   "outputs": [],
   "source": []
  }
 ],
 "metadata": {
  "kernelspec": {
   "display_name": "xsoci",
   "language": "sqlite",
   "name": "xsoci"
  },
  "language_info": {
   "codemirror_mode": "sql",
   "file_extension": "",
   "mimetype": "",
   "name": "mysql",
   "version": "4.0.1"
  }
 },
 "nbformat": 4,
 "nbformat_minor": 4
}
