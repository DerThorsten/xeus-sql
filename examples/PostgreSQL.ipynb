{
 "cells": [
  {
   "cell_type": "code",
   "execution_count": 3,
   "metadata": {},
   "outputs": [],
   "source": [
    "%LOAD postgresql newdvdrental"
   ]
  },
  {
   "cell_type": "code",
   "execution_count": 5,
   "metadata": {},
   "outputs": [
    {
     "data": {
      "text/html": [
       "<table>\n",
       "<tr>\n",
       "<th>category_id</th>\n",
       "<th>name</th>\n",
       "<th>last_update</th>\n",
       "</tr>\n",
       "<tr>\n",
       "<td>2</td>\n",
       "<td>Animation</td>\n",
       "<td></td>\n",
       "</tr>\n",
       "<tr>\n",
       "<td>3</td>\n",
       "<td>Children</td>\n",
       "<td></td>\n",
       "</tr>\n",
       "<tr>\n",
       "<td>4</td>\n",
       "<td>Classics</td>\n",
       "<td></td>\n",
       "</tr>\n",
       "<tr>\n",
       "<td>5</td>\n",
       "<td>Comedy</td>\n",
       "<td></td>\n",
       "</tr>\n",
       "</table>"
      ],
      "text/plain": []
     },
     "execution_count": 5,
     "metadata": {},
     "output_type": "execute_result"
    }
   ],
   "source": [
    "SELECT * FROM category LIMIT 5"
   ]
  },
  {
   "cell_type": "code",
   "execution_count": 13,
   "metadata": {},
   "outputs": [
    {
     "data": {
      "text/html": [
       "<table>\n",
       "<tr>\n",
       "<th>payment_id</th>\n",
       "<th>customer_id</th>\n",
       "<th>staff_id</th>\n",
       "<th>rental_id</th>\n",
       "<th>amount</th>\n",
       "<th>payment_date</th>\n",
       "</tr>\n",
       "<tr>\n",
       "<td>17504</td>\n",
       "<td>341</td>\n",
       "<td>1</td>\n",
       "<td>1778</td>\n",
       "<td>1.990000</td>\n",
       "<td></td>\n",
       "</tr>\n",
       "<tr>\n",
       "<td>17505</td>\n",
       "<td>341</td>\n",
       "<td>1</td>\n",
       "<td>1849</td>\n",
       "<td>7.990000</td>\n",
       "<td></td>\n",
       "</tr>\n",
       "<tr>\n",
       "<td>17506</td>\n",
       "<td>341</td>\n",
       "<td>2</td>\n",
       "<td>2829</td>\n",
       "<td>2.990000</td>\n",
       "<td></td>\n",
       "</tr>\n",
       "<tr>\n",
       "<td>17507</td>\n",
       "<td>341</td>\n",
       "<td>2</td>\n",
       "<td>3130</td>\n",
       "<td>7.990000</td>\n",
       "<td></td>\n",
       "</tr>\n",
       "</table>"
      ],
      "text/plain": []
     },
     "execution_count": 13,
     "metadata": {},
     "output_type": "execute_result"
    },
    {
     "data": {
      "application/vnd.vegalite.v3+json": {
       "$schema": "https://vega.github.io/schema/vega-lite/v4.json",
       "config": {
        "axis": {
         "grid": true
        }
       },
       "data": {
        "values": [
         {
          "amount": "name",
          "customer_id": "name",
          "payment_date": "name",
          "payment_id": "name",
          "rental_id": "name",
          "staff_id": "name"
         },
         {
          "amount": "1.990000",
          "customer_id": "341",
          "payment_date": "",
          "payment_id": "17504",
          "rental_id": "1778",
          "staff_id": "1"
         },
         {
          "amount": "7.990000",
          "customer_id": "341",
          "payment_date": "",
          "payment_id": "17505",
          "rental_id": "1849",
          "staff_id": "1"
         },
         {
          "amount": "2.990000",
          "customer_id": "341",
          "payment_date": "",
          "payment_id": "17506",
          "rental_id": "2829",
          "staff_id": "2"
         },
         {
          "amount": "7.990000",
          "customer_id": "341",
          "payment_date": "",
          "payment_id": "17507",
          "rental_id": "3130",
          "staff_id": "2"
         }
        ]
       },
       "encoding": {
        "x": {
         "field": "rental_id",
         "type": "quantitative"
        },
        "y": {
         "field": "amount",
         "type": "quantitative"
        }
       },
       "height": 200,
       "mark": {
        "type": "line"
       },
       "width": 400
      },
      "image/png": "[encoded data removed]"
     },
     "execution_count": 13,
     "metadata": {},
     "output_type": "execute_result"
    }
   ],
   "source": [
    "%XVEGA_PLOT X_FIELD rental_id Y_FIELD amount MARK line COLOR purple WIDTH 400 HEIGHT 200 <> SELECT * FROM payment LIMIT 5"
   ]
  },
  {
   "cell_type": "code",
   "execution_count": null,
   "metadata": {},
   "outputs": [],
   "source": []
  }
 ],
 "metadata": {
  "kernelspec": {
   "display_name": "xsql",
   "language": "sqlite",
   "name": "xsql"
  },
  "language_info": {
   "codemirror_mode": "sql",
   "file_extension": "",
   "mimetype": "",
   "name": "mysql",
   "version": "4.0.1"
  }
 },
 "nbformat": 4,
 "nbformat_minor": 4
}
